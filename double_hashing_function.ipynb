{
 "cells": [
  {
   "cell_type": "markdown",
   "metadata": {},
   "source": [
    "# Producing pseudonymised IDs using double hashing\n",
    "\n",
    "This notebook pseudonymises a dataset of synthetic IDs using double hashing with SHA3-512 and SHA3-256 encoding of the IDs."
   ]
  },
  {
   "cell_type": "code",
   "execution_count": 1,
   "metadata": {},
   "outputs": [],
   "source": [
    "# Import required packages\n",
    "import pandas as pd\n",
    "import hashlib\n",
    "import random as rnd\n",
    "from datetime import datetime"
   ]
  },
  {
   "cell_type": "markdown",
   "metadata": {},
   "source": [
    "## Create a dummy dataset for testing\n",
    "\n",
    "Produce a synthetic dataset with 1 million rows and 2 columns:\n",
    "* Column 0 is a numerical identifier of 7 digits\n",
    "* Column 1 is a binary string variable (gender)"
   ]
  },
  {
   "cell_type": "code",
   "execution_count": 2,
   "metadata": {},
   "outputs": [
    {
     "name": "stdout",
     "output_type": "stream",
     "text": [
      "        id gender\n",
      "0  2059514      m\n",
      "1  6637854      m\n",
      "2  9644590      m\n",
      "3  5475587      f\n",
      "4  3330420      m\n",
      "Dummy dataset created\n"
     ]
    }
   ],
   "source": [
    "# Set number of IDs, and possible genders\n",
    "n = 1000000\n",
    "gen = ['m', 'f']\n",
    "\n",
    "# Initalise empty lists to store IDs and genders\n",
    "id_list = list()\n",
    "gen_list = list()\n",
    "\n",
    "for i in range(0,n):\n",
    "    # Randomly select number from specified name\n",
    "    ids = rnd.randrange(1000000, 9999999)\n",
    "    id_list.append(ids)\n",
    "    # Randomly choose a gender\n",
    "    gen_choice = rnd.choice(gen)\n",
    "    gen_list.append(gen_choice)\n",
    "\n",
    "# Convert lists into a dataframe\n",
    "d_dict = {'id': id_list, 'gender': gen_list}\n",
    "df = pd.DataFrame(d_dict)\n",
    "\n",
    "# Preview the dataframe produced\n",
    "print(df.head())\n",
    "print('Dummy dataset created')"
   ]
  },
  {
   "cell_type": "markdown",
   "metadata": {},
   "source": [
    "Print the number of unique identifiers in the dummy dataset"
   ]
  },
  {
   "cell_type": "code",
   "execution_count": 3,
   "metadata": {},
   "outputs": [
    {
     "name": "stdout",
     "output_type": "stream",
     "text": [
      "The number of unique identifiers in the dataset is 946419\n"
     ]
    }
   ],
   "source": [
    "uni_id = df['id'].unique()\n",
    "print(f'The number of unique identifiers in the dataset is {str(len(uni_id))}')"
   ]
  },
  {
   "cell_type": "markdown",
   "metadata": {},
   "source": [
    "Remove any rows containing duplicate identifiers from the dataset"
   ]
  },
  {
   "cell_type": "code",
   "execution_count": 4,
   "metadata": {},
   "outputs": [
    {
     "name": "stdout",
     "output_type": "stream",
     "text": [
      "Duplicate identifiers have been removed from the dataset\n"
     ]
    }
   ],
   "source": [
    "df_uni = df.drop_duplicates(subset=['id'], keep = 'first').copy(deep=True)\n",
    "print('Duplicate identifiers have been removed from the dataset')"
   ]
  },
  {
   "cell_type": "markdown",
   "metadata": {},
   "source": [
    "Convert the values in the id column to string objects"
   ]
  },
  {
   "cell_type": "code",
   "execution_count": 5,
   "metadata": {},
   "outputs": [
    {
     "name": "stdout",
     "output_type": "stream",
     "text": [
      "The contents of the id column has been converted to string objects\n"
     ]
    }
   ],
   "source": [
    "df_uni['id'] = df_uni['id'].astype(str)\n",
    "print('The contents of the id column has been converted to string objects')"
   ]
  },
  {
   "cell_type": "markdown",
   "metadata": {},
   "source": [
    "# Define functions for pseudonymisation using double hashing\n",
    "\n",
    "These functions will pseudonymise unique identifiers in a dataset to provide a master list.\n",
    "* The process first converts each identifier to uft-8 format then encrypts each identifier using a sha3_512 key.\n",
    "* This value is then divided by 10^n where n is the number of digits to return which must be less than 512. The smaller the number of digits returned the greater the likelihood of duplicate values which will increase processing time.\n",
    "* This process is then repeated returning a number of digits equal to or if specified greater than that specified in the first hashing process.\n",
    "* Where duplicates are produced the hashing process will be completed until no duplicates remain.\n",
    "* Processing time will depend on the number of identifiers being pseudonymised and the number of digits being returned. To reduce processing time, the more identifiers being returned the greater the number of digits being returned should be.\n",
    "\n",
    "This method of double hashing is GDPR compliant and non-reversible."
   ]
  },
  {
   "cell_type": "markdown",
   "metadata": {},
   "source": [
    "### Formatting"
   ]
  },
  {
   "cell_type": "code",
   "execution_count": 6,
   "metadata": {},
   "outputs": [],
   "source": [
    "def col_to_string(df, id_col):\n",
    "    '''\n",
    "    Convert column data type to string.\n",
    "\n",
    "    Parameters\n",
    "    ----------\n",
    "    df : pandas dataframe\n",
    "        Dataframe containing the column to be converted\n",
    "    id_col : string\n",
    "        Name of the column to be converted\n",
    "\n",
    "    Returns\n",
    "    -------\n",
    "    df : pandas dataframe\n",
    "        Dataframe with converted column\n",
    "    '''\n",
    "    df[id_col] = df[id_col].astype(str)\n",
    "    return df"
   ]
  },
  {
   "cell_type": "markdown",
   "metadata": {},
   "source": [
    "### Encoding ID using SHA encryption"
   ]
  },
  {
   "cell_type": "code",
   "execution_count": 7,
   "metadata": {},
   "outputs": [],
   "source": [
    "def encode(df, i, org_col, n):\n",
    "    '''\n",
    "    Encode an ID using SHA3_512 encryption.\n",
    "\n",
    "    Parameters\n",
    "    ----------\n",
    "    df : pandas dataframe\n",
    "        Dataframe contained the ID to be encoded\n",
    "    i : integer\n",
    "        Row/Index of the ID to be encoded\n",
    "    org_col: string\n",
    "        Name of the column with the ID to be encoded\n",
    "    n : integer\n",
    "        Desired length of the new ID\n",
    "\n",
    "    Returns\n",
    "    -------\n",
    "    h_id_short : string\n",
    "        Newly encoded ID\n",
    "    '''\n",
    "    # Convert ID to UTF-8 format\n",
    "    utf8_id = df.loc[df.index[i], org_col].encode(\"utf-8\")\n",
    "\n",
    "    # Encrypt using SHA3_512 key\n",
    "    h_id = int(hashlib.sha3_512(utf8_id).hexdigest(),16)\n",
    "\n",
    "    # Shortern to specified length\n",
    "    h_id_short = str(h_id)[-n:]\n",
    "\n",
    "    return h_id_short"
   ]
  },
  {
   "cell_type": "code",
   "execution_count": 8,
   "metadata": {},
   "outputs": [],
   "source": [
    "def reencode(df, i, org_col, n):\n",
    "    '''\n",
    "    Encode an ID using SHA3_256 encryption.\n",
    "\n",
    "    Parameters\n",
    "    ----------\n",
    "    df : pandas dataframe\n",
    "        Dataframe contained the ID to be encoded\n",
    "    i : integer\n",
    "        Row/Index of the ID to be encoded\n",
    "    org_col: string\n",
    "        Name of the column with the ID to be encoded\n",
    "    n : integer\n",
    "        Desired length of the new ID\n",
    "\n",
    "    Returns\n",
    "    -------\n",
    "    h_id_short : string\n",
    "        Newly encoded ID\n",
    "    '''\n",
    "    # Convert ID to UTF-8 format\n",
    "    utf8_id = df.loc[df.index[i], org_col].encode(\"utf-8\")\n",
    "    \n",
    "    # Encrypt using SHA3_512 key, then divide by\n",
    "    h_id = int(hashlib.sha3_256(utf8_id).hexdigest(),16)\n",
    "\n",
    "    # Shortern to specified length\n",
    "    h_id_short = str(h_id)[-n:]\n",
    "\n",
    "    return h_id_short"
   ]
  },
  {
   "cell_type": "code",
   "execution_count": 9,
   "metadata": {},
   "outputs": [],
   "source": [
    "def hash_process(df, org_col, n, new_col):\n",
    "    '''\n",
    "    Create a new column with encoded IDs and add to the dataframe.\n",
    "\n",
    "    Parameters\n",
    "    ----------\n",
    "    df : pandas dataframe\n",
    "        Dataframe with IDs to be pseudonymised\n",
    "    org_col : string\n",
    "        Original column of IDs\n",
    "    n : integer\n",
    "        Desired length of the pseudonymised IDs\n",
    "    new_col : string\n",
    "        Name of new column that will contain the pseudonymised IDs\n",
    "\n",
    "    Returns\n",
    "    -------\n",
    "    df : pandas dataframe\n",
    "        Dataframe with new column of pseudonymised IDs added\n",
    "    '''\n",
    "    # Create an empty list to store the IDs\n",
    "    hash_id_list = list()\n",
    "\n",
    "    # Iterate over the IDs\n",
    "    for i in range(len(df)):\n",
    "        # Generate a pseudonymised ID and save to list\n",
    "        h_id = encode(df, i, org_col, n)\n",
    "        hash_id_list.append(h_id)\n",
    "\n",
    "    # Create a new column in the dataframe with the pseudonymised IDs\n",
    "    df[new_col] = hash_id_list\n",
    "\n",
    "    return df"
   ]
  },
  {
   "cell_type": "markdown",
   "metadata": {},
   "source": [
    "### Dealing with duplicates"
   ]
  },
  {
   "cell_type": "code",
   "execution_count": 10,
   "metadata": {},
   "outputs": [],
   "source": [
    "def find_duplicates(df, col):\n",
    "    '''\n",
    "    Find index of duplicate encoded IDs.\n",
    "\n",
    "    Parameters\n",
    "    ----------\n",
    "    df : pandas dataframe\n",
    "        Dataframe with the IDs\n",
    "    col : string\n",
    "        Name of the column with the IDs\n",
    "\n",
    "    Returns\n",
    "    -------\n",
    "    dup_ind : boolean series\n",
    "        Series where True if ID is duplicate\n",
    "    dup_count : integer\n",
    "        Number of duplicate IDs in the dataframe\n",
    "    '''\n",
    "    # Get indices of duplicate IDs\n",
    "    dup_ind = df.duplicated(subset=[col])\n",
    "    # Get count of duplicate IDs\n",
    "    dup_count = dup_ind.sum()\n",
    "    return dup_ind, dup_count"
   ]
  },
  {
   "cell_type": "code",
   "execution_count": 11,
   "metadata": {},
   "outputs": [],
   "source": [
    "def reencode_duplicate(df, i, org_col, tar_col, n):\n",
    "    '''\n",
    "    Replace an ID in the dataframe with a newly encoded ID.\n",
    "\n",
    "    Parameters\n",
    "    ----------\n",
    "    df : pandas dataframe\n",
    "        Dataframe containing the ID to be replaced\n",
    "    i : integer\n",
    "        Row/index of the ID to be replaced\n",
    "    org_col : string\n",
    "        Name of column with the original ID, that was encoded to produce the\n",
    "        ID in tar_col\n",
    "    tar_col : string\n",
    "        Name of column with the ID to be replaced\n",
    "    n : integer\n",
    "        Desired length of the pseudonymised ID\n",
    "    '''\n",
    "    # Re-encode ID\n",
    "    new_hash = reencode(df, i, org_col,  n)\n",
    "    # Replace that ID in the dataframe\n",
    "    df.at[i, tar_col] = new_hash\n",
    "    return df"
   ]
  },
  {
   "cell_type": "code",
   "execution_count": 12,
   "metadata": {},
   "outputs": [],
   "source": [
    "def duplicate_check(df, org_col, tar_col, n):\n",
    "    '''\n",
    "    Check for duplicate encoded IDs, and rencode (using the original ID). Repeat\n",
    "    until there are no duplicates remaining.\n",
    "\n",
    "    Parameters\n",
    "    ----------\n",
    "    df : pandas dataframe\n",
    "        Dataframe with the original and pseudonymised IDs\n",
    "    org_col : string\n",
    "        Name of column with the original IDs that were just pseudonymised\n",
    "    targ_col : string\n",
    "        Name of column of IDs within which we are checking for duplicates\n",
    "    n : integer\n",
    "        Desired length of pseudonymised IDs\n",
    "\n",
    "    Returns\n",
    "    -------\n",
    "    df : pandas dataframe\n",
    "        Dataframe with duplicate IDs replaced\n",
    "    '''\n",
    "    # Find the indices and number of duplicates\n",
    "    dup_ind, dup_count = find_duplicates(df, tar_col)\n",
    "\n",
    "    # If there are any present...\n",
    "    while dup_count > 0:\n",
    "\n",
    "        # Print count of duplicate indices\n",
    "        print(dup_count)\n",
    "        # print(dup_ind)\n",
    "\n",
    "        # Reduce length of produced ID by 1\n",
    "        n = n - 1\n",
    "\n",
    "        # Loop through the indices and re-encode\n",
    "        for i in range(len(dup_ind)):\n",
    "            if dup_ind[i] == True:\n",
    "                df = reencode_duplicate(df, i, org_col, tar_col, n)\n",
    "\n",
    "        # Get indices and counts of any remaining duplicates\n",
    "        dup_ind, dup_count = find_duplicates(df, tar_col)\n",
    "\n",
    "    return df"
   ]
  },
  {
   "cell_type": "markdown",
   "metadata": {},
   "source": [
    "### Single function that uses all the functions above to perform pseudonymisation"
   ]
  },
  {
   "cell_type": "code",
   "execution_count": 13,
   "metadata": {},
   "outputs": [],
   "source": [
    "def double_hash_pseudo(df, id_col, n1):\n",
    "    '''\n",
    "    Pseudonymise IDs using double-hashing\n",
    "\n",
    "    Parameters\n",
    "    ----------\n",
    "    df : pandas dataframe\n",
    "        Dataframe with the IDs to be pseudonymised\n",
    "    id_col : string\n",
    "        Name of the ID column to be pseudonymised\n",
    "    n1 : integer\n",
    "        Desired length of the final pseudonymised IDs\n",
    "\n",
    "    Returns\n",
    "    -------\n",
    "    df_h2_rev : pandas dataframe\n",
    "        Dataframe with two new columns (in-progress and final set of pseudo IDs)\n",
    "    '''\n",
    "    # Set names for the ID columns\n",
    "    h1_col = 'h_id'\n",
    "    h2_col = 'h_id_two'\n",
    "\n",
    "    # Convert original ID column to string\n",
    "    df = col_to_string(df, id_col)\n",
    "\n",
    "    # Add a new column with pseudymised IDs to the dataframe\n",
    "    df_h1 = hash_process(df, id_col, n1, h1_col)\n",
    "    # print(df_h1.head())\n",
    "    # print(len(df_h1))\n",
    "\n",
    "    # Run a duplicate check\n",
    "    df_h1_rev = duplicate_check(df_h1, id_col, h1_col, n1)\n",
    "\n",
    "    # Print status update\n",
    "    print(len(df_h1_rev))\n",
    "    print('Hash one complete')\n",
    "\n",
    "    # Repeat process a second time\n",
    "    df = col_to_string(df, h1_col)\n",
    "    df_h2 = hash_process(df_h1_rev, h1_col, n1, h2_col)\n",
    "    df_h2_rev = duplicate_check(df_h2, h1_col, h2_col, n1)\n",
    "\n",
    "    return df_h2_rev"
   ]
  },
  {
   "cell_type": "markdown",
   "metadata": {},
   "source": [
    "## Run the pseudonymisation function on our synthetic data\n",
    "\n",
    "Run the function and preview the output dataframe."
   ]
  },
  {
   "cell_type": "code",
   "execution_count": 14,
   "metadata": {},
   "outputs": [
    {
     "name": "stdout",
     "output_type": "stream",
     "text": [
      "53581\n",
      "1957\n",
      "59\n",
      "1\n",
      "1000000\n",
      "Hash one complete\n"
     ]
    }
   ],
   "source": [
    "# Produce a new dataframe with pseudonymised IDs\n",
    "df_pseudo = double_hash_pseudo(df, 'id', 12)"
   ]
  },
  {
   "cell_type": "code",
   "execution_count": 15,
   "metadata": {},
   "outputs": [
    {
     "data": {
      "text/html": [
       "<div>\n",
       "<style scoped>\n",
       "    .dataframe tbody tr th:only-of-type {\n",
       "        vertical-align: middle;\n",
       "    }\n",
       "\n",
       "    .dataframe tbody tr th {\n",
       "        vertical-align: top;\n",
       "    }\n",
       "\n",
       "    .dataframe thead th {\n",
       "        text-align: right;\n",
       "    }\n",
       "</style>\n",
       "<table border=\"1\" class=\"dataframe\">\n",
       "  <thead>\n",
       "    <tr style=\"text-align: right;\">\n",
       "      <th></th>\n",
       "      <th>id</th>\n",
       "      <th>gender</th>\n",
       "      <th>h_id</th>\n",
       "      <th>h_id_two</th>\n",
       "    </tr>\n",
       "  </thead>\n",
       "  <tbody>\n",
       "    <tr>\n",
       "      <th>0</th>\n",
       "      <td>2059514</td>\n",
       "      <td>m</td>\n",
       "      <td>178153574148</td>\n",
       "      <td>957309155434</td>\n",
       "    </tr>\n",
       "    <tr>\n",
       "      <th>1</th>\n",
       "      <td>6637854</td>\n",
       "      <td>m</td>\n",
       "      <td>335977486504</td>\n",
       "      <td>656405339426</td>\n",
       "    </tr>\n",
       "    <tr>\n",
       "      <th>2</th>\n",
       "      <td>9644590</td>\n",
       "      <td>m</td>\n",
       "      <td>158429656001</td>\n",
       "      <td>734215348379</td>\n",
       "    </tr>\n",
       "    <tr>\n",
       "      <th>3</th>\n",
       "      <td>5475587</td>\n",
       "      <td>f</td>\n",
       "      <td>699481413845</td>\n",
       "      <td>208638565475</td>\n",
       "    </tr>\n",
       "    <tr>\n",
       "      <th>4</th>\n",
       "      <td>3330420</td>\n",
       "      <td>m</td>\n",
       "      <td>946864212942</td>\n",
       "      <td>683811639924</td>\n",
       "    </tr>\n",
       "  </tbody>\n",
       "</table>\n",
       "</div>"
      ],
      "text/plain": [
       "        id gender          h_id      h_id_two\n",
       "0  2059514      m  178153574148  957309155434\n",
       "1  6637854      m  335977486504  656405339426\n",
       "2  9644590      m  158429656001  734215348379\n",
       "3  5475587      f  699481413845  208638565475\n",
       "4  3330420      m  946864212942  683811639924"
      ]
     },
     "metadata": {},
     "output_type": "display_data"
    }
   ],
   "source": [
    "# Preview new dataframe\n",
    "display(df_pseudo.head())"
   ]
  },
  {
   "cell_type": "code",
   "execution_count": 16,
   "metadata": {},
   "outputs": [
    {
     "name": "stdout",
     "output_type": "stream",
     "text": [
      "000000090221\n"
     ]
    }
   ],
   "source": [
    "# Print minimum ID\n",
    "print(df_pseudo['h_id_two'].min())"
   ]
  },
  {
   "cell_type": "code",
   "execution_count": 17,
   "metadata": {},
   "outputs": [
    {
     "data": {
      "text/plain": [
       "12    1000000\n",
       "Name: count, dtype: int64"
      ]
     },
     "execution_count": 17,
     "metadata": {},
     "output_type": "execute_result"
    }
   ],
   "source": [
    "# Check all ID are the same length\n",
    "id_len = [len(x) for x in df_pseudo['h_id_two']]\n",
    "pd.Series(id_len).value_counts()"
   ]
  },
  {
   "cell_type": "markdown",
   "metadata": {},
   "source": [
    "### Write the hashed IDs to csv\n",
    "\n",
    "The code below is not currently used (filename is simply 'pseudo_out'), but provides a method for generating a filename with the present date and time. This could be used to help prevent accidental rewrite of the master file when re-running this notebook."
   ]
  },
  {
   "cell_type": "code",
   "execution_count": 18,
   "metadata": {},
   "outputs": [
    {
     "name": "stdout",
     "output_type": "stream",
     "text": [
      "Now: 2024-02-02 15:13:28.873792\n",
      "Filename: pseudo_out_02022024_151328.csv\n"
     ]
    }
   ],
   "source": [
    "# Get current date and time\n",
    "now = datetime.now()\n",
    "print(f'Now: {now}')\n",
    "\n",
    "# Convert to string with specified format\n",
    "now_str = now.strftime('%d%m%Y_%H%M%S')\n",
    "\n",
    "# Use to make filename\n",
    "filename = f'pseudo_out_{now_str}.csv'\n",
    "print(f'Filename: {filename}')"
   ]
  },
  {
   "cell_type": "markdown",
   "metadata": {},
   "source": [
    "As above though, we are just saving as 'pseudo_out.csv'."
   ]
  },
  {
   "cell_type": "code",
   "execution_count": 19,
   "metadata": {},
   "outputs": [],
   "source": [
    "df_pseudo.to_csv('pseudo_out.csv')"
   ]
  }
 ],
 "metadata": {
  "kernelspec": {
   "display_name": ".venv",
   "language": "python",
   "name": "python3"
  },
  "language_info": {
   "codemirror_mode": {
    "name": "ipython",
    "version": 3
   },
   "file_extension": ".py",
   "mimetype": "text/x-python",
   "name": "python",
   "nbconvert_exporter": "python",
   "pygments_lexer": "ipython3",
   "version": "3.10.11"
  },
  "orig_nbformat": 4
 },
 "nbformat": 4,
 "nbformat_minor": 2
}
